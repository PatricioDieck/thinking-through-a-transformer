{
 "cells": [
  {
   "cell_type": "markdown",
   "metadata": {},
   "source": [
    "#### Quick Transformer lol"
   ]
  },
  {
   "cell_type": "code",
   "execution_count": 205,
   "metadata": {},
   "outputs": [
    {
     "name": "stdout",
     "output_type": "stream",
     "text": [
      "Parameter containing:\n",
      "tensor([[-0.0309],\n",
      "        [ 0.9235]], requires_grad=True)\n"
     ]
    }
   ],
   "source": [
    "import torch\n",
    "import torch.nn as nn\n",
    "\n",
    "neurons = nn.Linear(1,2)\n",
    "\n",
    "embedding = nn.Embedding(10, 3)\n",
    "\n",
    "print(neurons.weight)\n",
    "\n"
   ]
  },
  {
   "cell_type": "code",
   "execution_count": 321,
   "metadata": {},
   "outputs": [
    {
     "name": "stdout",
     "output_type": "stream",
     "text": [
      "THE INPUTS \n",
      " tensor([[9],\n",
      "        [0]])\n",
      "THE EMBEDDING MATRIX \n",
      " Parameter containing:\n",
      "tensor([[ 1.5677, -1.0696,  0.1981],\n",
      "        [ 0.7965, -1.1903, -0.3554],\n",
      "        [-0.1392,  2.3178,  1.5381],\n",
      "        [-0.1673,  0.5224,  0.8070],\n",
      "        [ 0.3306,  0.0067, -0.5437],\n",
      "        [ 0.3219,  0.9471, -1.1960],\n",
      "        [ 1.1326,  1.8201,  0.6771],\n",
      "        [-0.6820, -0.7878, -0.5440],\n",
      "        [-0.7984,  0.3540,  1.7827],\n",
      "        [-2.1361, -0.0390,  0.4890]], requires_grad=True)\n",
      "EMBEDDINGS FOR THE GIVEN INPUTS \n",
      " tensor([[[-2.1361, -0.0390,  0.4890]],\n",
      "\n",
      "        [[ 1.5677, -1.0696,  0.1981]]], grad_fn=<EmbeddingBackward0>)\n"
     ]
    }
   ],
   "source": [
    "# an Embedding matrix of 10 embeddings with 3 dimensions each\n",
    "embedding = nn.Embedding(10, 3)\n",
    "\n",
    "# a batch of 2 samples of 1 index each\n",
    "input = torch.LongTensor([[9],[0]])\n",
    "\n",
    "print('THE INPUTS \\n',input)\n",
    "\n",
    "# what does the embedding matrix look like?\n",
    "print('THE EMBEDDING MATRIX \\n',embedding.weight)\n",
    "\n",
    "# what is the result of the input embedding?\n",
    "print('EMBEDDINGS FOR THE GIVEN INPUTS \\n',embedding(input))"
   ]
  },
  {
   "cell_type": "markdown",
   "metadata": {},
   "source": [
    "notes on nn.Embedding in the Bigram Language Model\n",
    "\n",
    "the embedding module creates a lookup table with a configurable number of rows and columns. \n",
    "- number of rows is the number of unique words in the vocabulary,\n",
    "- columns is the size of the word embeddings.\n",
    "\n",
    " The embedding module is initialized with random values, and the embeddings are learned during training.\n",
    "\n",
    " "
   ]
  },
  {
   "cell_type": "markdown",
   "metadata": {},
   "source": [
    "#### Import the dataset"
   ]
  },
  {
   "cell_type": "code",
   "execution_count": 334,
   "metadata": {},
   "outputs": [],
   "source": [
    "with open('input.txt','r', encoding='utf-8') as f:\n",
    "    text = f.read()\n"
   ]
  },
  {
   "cell_type": "code",
   "execution_count": 341,
   "metadata": {},
   "outputs": [
    {
     "name": "stdout",
     "output_type": "stream",
     "text": [
      "the length of the text is  1115394\n",
      "First Citizen:\n",
      "Before we proceed any further, hear me speak.\n",
      "\n",
      "All:\n",
      "Speak, speak.\n",
      "\n",
      "First Citizen:\n",
      "You are all resolved rather to die than to famish?\n",
      "\n",
      "All:\n",
      "Resolved. resolved.\n",
      "\n",
      "First Citizen:\n",
      "First, you\n"
     ]
    }
   ],
   "source": [
    "print('the length of the text is ',len(text))\n",
    "print(text[:200])"
   ]
  },
  {
   "cell_type": "markdown",
   "metadata": {},
   "source": [
    "## OK\n",
    "\n",
    "embedding layer is a lookup table, \n",
    "\n",
    "- input to the embedding layer is a list of indices\n",
    "- output is a list of word (token) embeddings.\n",
    "\n",
    "lets turn our dataset into a list of indices, and feed it to the embedding layer. \n",
    "\n",
    "#### how do we do this?\n",
    "(We're doing a character level model)\n",
    "\n",
    "[x] we find all possible vocab words (letters) in datataset \n",
    "    - separate the dataset by letters, make a set of them, a list \n",
    "- tokenize the dataset wrt the vocab \n",
    "    - enumerate every element in the list \n",
    "    - make a function that returns index num for each string\n",
    "        - and a string for each num\n",
    "- pass all of these token indices into the embedding table\n",
    "    - turn entire dataset into nums wrt this tokenization strat\n",
    "- get back all the embeddings  "
   ]
  },
  {
   "cell_type": "code",
   "execution_count": 361,
   "metadata": {},
   "outputs": [
    {
     "name": "stdout",
     "output_type": "stream",
     "text": [
      "\n",
      " !$&',-.3:;?ABCDEFGHIJKLMNOPQRSTUVWXYZabcdefghijklmnopqrstuvwxyz\n",
      "65\n"
     ]
    }
   ],
   "source": [
    "# FIND ALL POSSIBLE VOCAB WORDS IN DATASET \n",
    "\n",
    "from pprint import pprint\n",
    "\n",
    "vocab_letters  = sorted(list(set(text)))\n",
    "print(''.join(vocab_letters))\n",
    "print(len(vocab_letters))\n",
    "\n",
    "# this is the entirety of our vocab for our word level transformer "
   ]
  },
  {
   "cell_type": "code",
   "execution_count": null,
   "metadata": {},
   "outputs": [],
   "source": [
    "# INDEX ALL OF THE WORDS\n",
    "\n",
    "\n"
   ]
  },
  {
   "cell_type": "code",
   "execution_count": null,
   "metadata": {},
   "outputs": [],
   "source": [
    "# MAKE A FUNCTION THAT ENCODES STR -> IDX AND\n",
    "# DECODES  IDX -> BACK TO STR"
   ]
  },
  {
   "cell_type": "code",
   "execution_count": null,
   "metadata": {},
   "outputs": [],
   "source": []
  }
 ],
 "metadata": {
  "kernelspec": {
   "display_name": "venv",
   "language": "python",
   "name": "python3"
  },
  "language_info": {
   "codemirror_mode": {
    "name": "ipython",
    "version": 3
   },
   "file_extension": ".py",
   "mimetype": "text/x-python",
   "name": "python",
   "nbconvert_exporter": "python",
   "pygments_lexer": "ipython3",
   "version": "3.10.9"
  }
 },
 "nbformat": 4,
 "nbformat_minor": 2
}
