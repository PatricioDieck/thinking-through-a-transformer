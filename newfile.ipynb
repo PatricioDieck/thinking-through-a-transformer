{
 "cells": [
  {
   "cell_type": "code",
   "execution_count": 17,
   "metadata": {},
   "outputs": [
    {
     "data": {
      "text/plain": [
       "Parameter containing:\n",
       "tensor([[ 0.3680, -0.2417,  0.5648],\n",
       "        [ 0.5724, -0.6686, -0.7244],\n",
       "        [ 0.8551,  0.6123, -1.6295],\n",
       "        [-0.4860, -1.6187, -1.4164],\n",
       "        [-0.3477,  1.4543,  0.9002],\n",
       "        [ 2.0531, -1.1876, -0.6845],\n",
       "        [-1.4890, -1.0999, -0.6710],\n",
       "        [ 0.2824, -1.2499,  0.4770],\n",
       "        [-0.2774,  0.3105, -1.0783],\n",
       "        [-0.4429, -1.3909, -0.3761]], requires_grad=True)"
      ]
     },
     "execution_count": 17,
     "metadata": {},
     "output_type": "execute_result"
    }
   ],
   "source": [
    "import torch.nn as nn\n",
    "\n",
    "embedding  = nn.Embedding(10, 3)\n",
    "\n",
    "embedding.weight"
   ]
  }
 ],
 "metadata": {
  "kernelspec": {
   "display_name": "venv",
   "language": "python",
   "name": "python3"
  },
  "language_info": {
   "codemirror_mode": {
    "name": "ipython",
    "version": 3
   },
   "file_extension": ".py",
   "mimetype": "text/x-python",
   "name": "python",
   "nbconvert_exporter": "python",
   "pygments_lexer": "ipython3",
   "version": "3.10.9"
  }
 },
 "nbformat": 4,
 "nbformat_minor": 2
}
